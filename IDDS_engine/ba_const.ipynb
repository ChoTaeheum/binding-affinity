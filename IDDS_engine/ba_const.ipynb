{
 "cells": [
  {
   "cell_type": "code",
   "execution_count": null,
   "metadata": {},
   "outputs": [],
   "source": [
    "# The hyperparameters for expection of binding affinity\n",
    "\n",
    "DB_HOST = \"192.168.0.50\"\n",
    "PORT = 3306  #포트번호\n",
    "USER_NAME = \"gh506015\"\n",
    "USER_PSWD = \"2281\"\n",
    "DB_NAME=\"ui\"\n",
    "\n",
    "AMINO_SIGN = {\"A\":1, \"R\":2, \"N\":3, \"D\":4, \"C\":5, \"E\":6, \"Q\":7, \"G\":8, \"H\":9,\n",
    "             \"I\":10, \"L\":11, \"K\":12, \"M\":13, \"F\":14, \"P\":15, \"S\":16, \"T\":17,\n",
    "             \"W\":18, \"Y\":19, \"V\":20}\n",
    "\n",
    "SMILES_SIGN = {\"#\": 29, \"%\": 30, \")\": 31, \"(\": 1, \"+\": 32, \"-\": 33, \"/\": 34, \".\": 2, \n",
    "\t\t\t  \"1\": 35, \"0\": 3, \"3\": 36, \"2\": 4, \"5\": 37, \"4\": 5, \"7\": 38, \"6\": 6, \n",
    "\t\t\t  \"9\": 39, \"8\": 7, \"=\": 40, \"A\": 41, \"@\": 8, \"C\": 42, \"B\": 9, \"E\": 43, \n",
    "\t\t\t  \"D\": 10, \"G\": 44, \"F\": 11, \"I\": 45, \"H\": 12, \"K\": 46, \"M\": 47, \"L\": 13, \n",
    "\t\t\t  \"O\": 48, \"N\": 14, \"P\": 15, \"S\": 49, \"R\": 16, \"U\": 50, \"T\": 17, \"W\": 51, \n",
    "\t\t\t  \"V\": 18, \"Y\": 52, \"[\": 53, \"Z\": 19, \"]\": 54, \"\\\\\": 20, \"a\": 55, \"c\": 56, \n",
    "\t\t\t  \"b\": 21, \"e\": 57, \"d\": 22, \"g\": 58, \"f\": 23, \"i\": 59, \"h\": 24, \"m\": 60, \n",
    "\t\t\t  \"l\": 25, \"o\": 61, \"n\": 26, \"s\": 62, \"r\": 27, \"u\": 63, \"t\": 28, \"y\": 64}\n",
    "\n",
    "# ---------------------paths-----------------------\n",
    "CHECKPOINT = 'datasets/checkpoint.pth'\n",
    "SAVERES = '/var/lib/tomcat9/webapps/result/'\n",
    "\n",
    "MEAN = 11.719934770879288\n",
    "STD = 0.8369430908403743\n"
   ]
  }
 ],
 "metadata": {
  "kernelspec": {
   "display_name": "Python 3",
   "language": "python",
   "name": "python3"
  },
  "language_info": {
   "codemirror_mode": {
    "name": "ipython",
    "version": 3
   },
   "file_extension": ".py",
   "mimetype": "text/x-python",
   "name": "python",
   "nbconvert_exporter": "python",
   "pygments_lexer": "ipython3",
   "version": "3.6.10"
  }
 },
 "nbformat": 4,
 "nbformat_minor": 4
}
